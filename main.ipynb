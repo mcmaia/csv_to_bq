{
 "cells": [
  {
   "cell_type": "code",
   "execution_count": 16,
   "metadata": {},
   "outputs": [],
   "source": [
    "from google.cloud import bigquery\n",
    "import pandas as pd\n",
    "from google.oauth2.service_account import Credentials\n"
   ]
  },
  {
   "cell_type": "code",
   "execution_count": 17,
   "metadata": {},
   "outputs": [],
   "source": [
    "credentials = Credentials.from_service_account_file('config/gcp_credentials.json')"
   ]
  },
  {
   "cell_type": "code",
   "execution_count": 18,
   "metadata": {},
   "outputs": [
    {
     "name": "stdout",
     "output_type": "stream",
     "text": [
      "   First Name   Last Name                      Email Application Date  \\\n",
      "0  Bernadette   Langworth        leonard91@yahoo.com       2021-02-26   \n",
      "1      Camryn    Reynolds        zelda56@hotmail.com       2021-09-09   \n",
      "2       Larue      Spinka   okey_schultz41@gmail.com       2020-04-14   \n",
      "3        Arch      Spinka     elvera_kulas@yahoo.com       2020-10-01   \n",
      "4       Larue  Altenwerth  minnie.gislason@gmail.com       2020-05-20   \n",
      "\n",
      "   Country  YOE  Seniority                         Technology  \\\n",
      "0   Norway    2     Intern                      Data Engineer   \n",
      "1   Panama   10     Intern                      Data Engineer   \n",
      "2  Belarus    4  Mid-Level                     Client Success   \n",
      "3  Eritrea   25    Trainee                          QA Manual   \n",
      "4  Myanmar   13  Mid-Level  Social Media Community Management   \n",
      "\n",
      "   Code Challenge Score  Technical Interview Score  \n",
      "0                     3                          3  \n",
      "1                     2                         10  \n",
      "2                    10                          9  \n",
      "3                     7                          1  \n",
      "4                     9                          7  \n",
      "First Name                   object\n",
      "Last Name                    object\n",
      "Email                        object\n",
      "Application Date             object\n",
      "Country                      object\n",
      "YOE                           int64\n",
      "Seniority                    object\n",
      "Technology                   object\n",
      "Code Challenge Score          int64\n",
      "Technical Interview Score     int64\n",
      "dtype: object\n"
     ]
    }
   ],
   "source": [
    "data = pd.read_csv('source/candidates.csv', sep=';')\n",
    "#print(data)\n",
    "print(data.head())\n",
    "print(data.dtypes)\n"
   ]
  },
  {
   "cell_type": "code",
   "execution_count": 19,
   "metadata": {},
   "outputs": [
    {
     "name": "stdout",
     "output_type": "stream",
     "text": [
      "Index(['first_name', 'last_name', 'email', 'application_date', 'country',\n",
      "       'yoe', 'seniority', 'technology', 'code_challenge_score',\n",
      "       'technical_interview_score'],\n",
      "      dtype='object')\n"
     ]
    }
   ],
   "source": [
    "# clean and format the column names\n",
    "data.columns = [col.strip().lower().replace(' ', '_') for col in data.columns]\n",
    "print(data.columns)"
   ]
  },
  {
   "cell_type": "code",
   "execution_count": 20,
   "metadata": {},
   "outputs": [],
   "source": [
    "data_sorted = data.sort_values(by='email', ascending=False).head(100)\n",
    "data_sorted.to_csv('out/sorted_data.csv', index=False, header=True)"
   ]
  },
  {
   "cell_type": "code",
   "execution_count": 28,
   "metadata": {},
   "outputs": [
    {
     "name": "stdout",
     "output_type": "stream",
     "text": [
      "<class 'pandas.core.frame.DataFrame'>\n",
      "RangeIndex: 50000 entries, 0 to 49999\n",
      "Data columns (total 10 columns):\n",
      " #   Column                     Non-Null Count  Dtype \n",
      "---  ------                     --------------  ----- \n",
      " 0   first_name                 50000 non-null  object\n",
      " 1   last_name                  50000 non-null  object\n",
      " 2   email                      50000 non-null  object\n",
      " 3   application_date           50000 non-null  object\n",
      " 4   country                    50000 non-null  object\n",
      " 5   yoe                        50000 non-null  int64 \n",
      " 6   seniority                  50000 non-null  object\n",
      " 7   technology                 50000 non-null  object\n",
      " 8   code_challenge_score       50000 non-null  int64 \n",
      " 9   technical_interview_score  50000 non-null  int64 \n",
      "dtypes: int64(3), object(7)\n",
      "memory usage: 3.8+ MB\n",
      "None\n"
     ]
    }
   ],
   "source": [
    "print(data.info())"
   ]
  },
  {
   "cell_type": "code",
   "execution_count": 22,
   "metadata": {},
   "outputs": [],
   "source": [
    "# Set up the BigQuery client\n",
    "client = bigquery.Client.from_service_account_json('config/gcp_credentials.json')"
   ]
  },
  {
   "cell_type": "code",
   "execution_count": 23,
   "metadata": {},
   "outputs": [],
   "source": [
    "# Create a new dataset\n",
    "dataset_id = 'data_test'\n",
    "dataset_ref = client.dataset(dataset_id)\n",
    "dataset = bigquery.Dataset(dataset_ref)\n",
    "dataset.location = 'US'\n",
    "try:\n",
    "    dataset = client.create_dataset(dataset)\n",
    "except Exception:\n",
    "    pass"
   ]
  },
  {
   "cell_type": "code",
   "execution_count": 24,
   "metadata": {},
   "outputs": [],
   "source": [
    "table_id = 'candidates'\n",
    "schema = [\n",
    "    bigquery.SchemaField('first_name', 'STRING'),\n",
    "    bigquery.SchemaField('last_name', 'STRING'),\n",
    "    bigquery.SchemaField('email', 'STRING'),\n",
    "    bigquery.SchemaField('application_date', 'DATE'),\n",
    "    bigquery.SchemaField('country', 'STRING'),\n",
    "    bigquery.SchemaField('yoe', 'INTEGER'),\n",
    "    bigquery.SchemaField('seniority', 'STRING'),\n",
    "    bigquery.SchemaField('technology', 'STRING'),\n",
    "    bigquery.SchemaField('code_challenge_score', 'INTEGER'),\n",
    "    bigquery.SchemaField('technical_interview_score', 'INTEGER')\n",
    "]"
   ]
  },
  {
   "cell_type": "code",
   "execution_count": 25,
   "metadata": {},
   "outputs": [],
   "source": [
    "table_ref = dataset_ref.table(table_id)\n",
    "table = bigquery.Table(table_ref, schema=schema)\n"
   ]
  },
  {
   "cell_type": "code",
   "execution_count": 26,
   "metadata": {},
   "outputs": [],
   "source": [
    "# # Load the data into the table\n",
    "# job_config = bigquery.LoadJobConfig(schema=schema)\n",
    "# job_config.autodetect = True\n",
    "# job_config.write_disposition = 'WRITE_TRUNCATE'\n",
    "# job_config.source_format = bigquery.SourceFormat.CSV\n",
    "# job = client.load_table_from_dataframe(data, table, job_config=job_config)\n",
    "# job.result()"
   ]
  },
  {
   "cell_type": "code",
   "execution_count": 27,
   "metadata": {},
   "outputs": [],
   "source": [
    "data.to_gbq(destination_table='data_test.candidates', \n",
    "            project_id='tech-tests-381614',\n",
    "            if_exists='replace',\n",
    "            credentials=credentials)"
   ]
  }
 ],
 "metadata": {
  "kernelspec": {
   "display_name": "Python 3",
   "language": "python",
   "name": "python3"
  },
  "language_info": {
   "codemirror_mode": {
    "name": "ipython",
    "version": 3
   },
   "file_extension": ".py",
   "mimetype": "text/x-python",
   "name": "python",
   "nbconvert_exporter": "python",
   "pygments_lexer": "ipython3",
   "version": "3.11.2"
  },
  "orig_nbformat": 4
 },
 "nbformat": 4,
 "nbformat_minor": 2
}
